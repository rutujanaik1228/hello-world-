{
  "nbformat": 4,
  "nbformat_minor": 0,
  "metadata": {
    "colab": {
      "name": "Python Program to Find ASCII Value of Character.ipynb",
      "provenance": []
    },
    "kernelspec": {
      "name": "python3",
      "display_name": "Python 3"
    },
    "language_info": {
      "name": "python"
    }
  },
  "cells": [
    {
      "cell_type": "code",
      "metadata": {
        "colab": {
          "base_uri": "https://localhost:8080/"
        },
        "id": "G8VRmlYP1Mj-",
        "outputId": "6bb6cd54-66ab-4cbc-d4c6-77289c8f8c70"
      },
      "source": [
        "# Program to find the ASCII value of the given character\n",
        "\n",
        "c = input(\"enter a character:\")\n",
        "print(\"The ASCII value of '\" + c + \"' is\", ord(c))"
      ],
      "execution_count": 2,
      "outputs": [
        {
          "output_type": "stream",
          "text": [
            "enter a character:A\n",
            "The ASCII value of 'A' is 65\n"
          ],
          "name": "stdout"
        }
      ]
    }
  ]
}