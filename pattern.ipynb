{
  "nbformat": 4,
  "nbformat_minor": 0,
  "metadata": {
    "colab": {
      "name": "pattern.ipynb",
      "provenance": []
    },
    "kernelspec": {
      "name": "python3",
      "display_name": "Python 3"
    },
    "language_info": {
      "name": "python"
    }
  },
  "cells": [
    {
      "cell_type": "code",
      "metadata": {
        "colab": {
          "base_uri": "https://localhost:8080/"
        },
        "id": "tDEZvkirm812",
        "outputId": "9ecbe7aa-840e-4870-c6f7-ed119214d140"
      },
      "source": [
        "rows = int(input(\"enter a number\"))\n",
        "\n",
        "for i in range(1, rows + 1):\n",
        "    for j in range(1, i-1):\n",
        "       print(j, end=\" \")\n",
        "\n",
        "    for j in range(i-1, 0, -1):\n",
        "\n",
        "        print(j, end=\" \")\n",
        "\n",
        "    print()"
      ],
      "execution_count": 6,
      "outputs": [
        {
          "output_type": "stream",
          "text": [
            "enter a number9\n",
            "\n",
            "1 \n",
            "1 2 1 \n",
            "1 2 3 2 1 \n",
            "1 2 3 4 3 2 1 \n",
            "1 2 3 4 5 4 3 2 1 \n",
            "1 2 3 4 5 6 5 4 3 2 1 \n",
            "1 2 3 4 5 6 7 6 5 4 3 2 1 \n",
            "1 2 3 4 5 6 7 8 7 6 5 4 3 2 1 \n"
          ],
          "name": "stdout"
        }
      ]
    }
  ]
}