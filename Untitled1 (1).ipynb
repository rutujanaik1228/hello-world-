{
  "nbformat": 4,
  "nbformat_minor": 0,
  "metadata": {
    "colab": {
      "name": "Untitled1.ipynb",
      "provenance": []
    },
    "kernelspec": {
      "name": "python3",
      "display_name": "Python 3"
    },
    "language_info": {
      "name": "python"
    }
  },
  "cells": [
    {
      "cell_type": "code",
      "metadata": {
        "colab": {
          "base_uri": "https://localhost:8080/"
        },
        "id": "EPUVg36SqyHP",
        "outputId": "c8be4e75-502b-4b25-995b-3cf78f1f9688"
      },
      "source": [
        "'''Write a python program that demonstrates the use of dictionary to\n",
        "display doctor profile information.     \n",
        "NAME - Khushi Mishra\n",
        "SECTION C\n",
        "ROLL No. - 06\n",
        "'''\n",
        "doc = {}    \n",
        "print(\"Type: \",type(doc))     \n",
        "print(\"Enter the details of the Doctor :\")\n",
        "doc[\"Name\"] = input(\"Name: \")  \n",
        "doc[\"Age\"] = int(input(\"Age: \"))\n",
        "doc[\"Salary\"] = int(input(\"Salary: \"))\n",
        "doc[\"Qualification\"] = input(\"Qualification: \")\n",
        "print(\"\")\n",
        "print(\"Doctor's profile -\")\n",
        "for x in doc:    \n",
        "    print(x,\" : \",doc[x])\n",
        "print(\"\")\n",
        "print(\"Printing age of the doctor :\")\n",
        "print(doc.get('Age'))\n",
        "print(\"\")\n",
        "print(\"Updating/ changing dictionary elements....\")\n",
        "doc[\"Salary\"] = int(input(\"Enter updated salary: \"))\n",
        "print(\"\")\n",
        "print(\"Poppin elements from dictionary....\")\n",
        "print(doc.popitem())\n",
        "print(\"\")\n",
        "print(\"Removing Age from dictionary\")\n",
        "del doc[\"Age\"]\n",
        "print(\"\")\n",
        "print(\"Updated Doctor profile is - \\n\")\n",
        "for x in doc:    \n",
        "    print(x,\" : \",doc[x])\n",
        "print(\"\")\n",
        "print(\"Clearing dictionary....\")\n",
        "doc.clear()\n",
        "print(\"Doctor's profile dictionary : \",doc)"
      ],
      "execution_count": 1,
      "outputs": [
        {
          "output_type": "stream",
          "text": [
            "Type:  <class 'dict'>\n",
            "Enter the details of the Doctor :\n",
            "Name: rutuja\n",
            "Age: 20\n",
            "Salary: 50502\n",
            "Qualification: mmm\n",
            "\n",
            "Doctor's profile -\n",
            "Name  :  rutuja\n",
            "Age  :  20\n",
            "Salary  :  50502\n",
            "Qualification  :  mmm\n",
            "\n",
            "Printing age of the doctor :\n",
            "20\n",
            "\n",
            "Updating/ changing dictionary elements....\n",
            "Enter updated salary: 606112\n",
            "\n",
            "Poppin elements from dictionary....\n",
            "('Qualification', 'mmm')\n",
            "\n",
            "Removing Age from dictionary\n",
            "\n",
            "Updated Doctor profile is - \n",
            "\n",
            "Name  :  rutuja\n",
            "Salary  :  606112\n",
            "\n",
            "Clearing dictionary....\n",
            "Doctor's profile dictionary :  {}\n"
          ],
          "name": "stdout"
        }
      ]
    }
  ]
}