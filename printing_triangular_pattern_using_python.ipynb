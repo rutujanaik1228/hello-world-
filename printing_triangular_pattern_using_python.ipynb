{
  "nbformat": 4,
  "nbformat_minor": 0,
  "metadata": {
    "colab": {
      "name": "printing triangular pattern using python.ipynb",
      "provenance": []
    },
    "kernelspec": {
      "name": "python3",
      "display_name": "Python 3"
    },
    "language_info": {
      "name": "python"
    }
  },
  "cells": [
    {
      "cell_type": "code",
      "metadata": {
        "colab": {
          "base_uri": "https://localhost:8080/"
        },
        "id": "rxt-6usofzMs",
        "outputId": "b2672856-d494-4d42-ba42-2985e579d75f"
      },
      "source": [
        "rows=int(input(\"enter no. of rows:\"))\n",
        "for i in range (1,rows+1):\n",
        "    for space in range(rows-i): \n",
        "       print(' ',end=' ')\n",
        "    # inner loop for jth columns\n",
        "    for j in range(1, 2*i):\n",
        "        print('B ',end=\"\")\n",
        "\n",
        "    print()"
      ],
      "execution_count": 1,
      "outputs": [
        {
          "output_type": "stream",
          "text": [
            "enter no. of rows:8\n",
            "              B \n",
            "            B B B \n",
            "          B B B B B \n",
            "        B B B B B B B \n",
            "      B B B B B B B B B \n",
            "    B B B B B B B B B B B \n",
            "  B B B B B B B B B B B B B \n",
            "B B B B B B B B B B B B B B B \n"
          ],
          "name": "stdout"
        }
      ]
    }
  ]
}