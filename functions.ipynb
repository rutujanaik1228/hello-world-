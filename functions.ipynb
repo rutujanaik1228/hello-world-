{
  "nbformat": 4,
  "nbformat_minor": 0,
  "metadata": {
    "colab": {
      "name": "functions.ipynb",
      "provenance": []
    },
    "kernelspec": {
      "name": "python3",
      "display_name": "Python 3"
    },
    "language_info": {
      "name": "python"
    }
  },
  "cells": [
    {
      "cell_type": "code",
      "metadata": {
        "colab": {
          "base_uri": "https://localhost:8080/"
        },
        "id": "P32VAW07cwU8",
        "outputId": "b87cced0-5b70-45fa-e152-4e65711032fe"
      },
      "source": [
        "def solveMeFirst(a,b):\n",
        "    if a>=1 and b<=1000:\n",
        "        return a+b\n",
        "    \n",
        "\n",
        "\n",
        "num1 = int(input())\n",
        "num2 = int(input())\n",
        "res = solveMeFirst(num1,num2)\n",
        "print(res)\n"
      ],
      "execution_count": 2,
      "outputs": [
        {
          "output_type": "stream",
          "text": [
            "5\n",
            "2\n",
            "7\n"
          ],
          "name": "stdout"
        }
      ]
    }
  ]
}