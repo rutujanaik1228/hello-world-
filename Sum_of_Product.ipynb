{
  "nbformat": 4,
  "nbformat_minor": 0,
  "metadata": {
    "colab": {
      "name": "Sum of Product.ipynb",
      "provenance": []
    },
    "kernelspec": {
      "name": "python3",
      "display_name": "Python 3"
    },
    "language_info": {
      "name": "python"
    }
  },
  "cells": [
    {
      "cell_type": "code",
      "metadata": {
        "colab": {
          "base_uri": "https://localhost:8080/"
        },
        "id": "tDMbcdmD6m7N",
        "outputId": "5eb40fb9-44e6-409a-ed2b-27695f1208f9"
      },
      "source": [
        "def SumofProduct(arr, n):\n",
        "    sum = [None for _ in range(n)]\n",
        "    sum[n-1] = arr[n - 1]\n",
        " \n",
        "    for i in range(n - 2, -1, -1):\n",
        "        sum[i] = sum[i + 1] + arr[i]\n",
        " \n",
        "    res = 0\n",
        "    for i in range(n - 1):\n",
        "        res += sum[i + 1] * arr[i]\n",
        "    return res\n",
        "\n",
        "arr = [9, 3, 4, 2]\n",
        "n = len(arr)\n",
        "print(SumofProduct(arr, n))"
      ],
      "execution_count": 5,
      "outputs": [
        {
          "output_type": "stream",
          "text": [
            "107\n"
          ],
          "name": "stdout"
        }
      ]
    }
  ]
}