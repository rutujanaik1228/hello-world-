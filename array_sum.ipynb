{
  "nbformat": 4,
  "nbformat_minor": 0,
  "metadata": {
    "colab": {
      "name": "array sum.ipynb",
      "provenance": []
    },
    "kernelspec": {
      "name": "python3",
      "display_name": "Python 3"
    },
    "language_info": {
      "name": "python"
    }
  },
  "cells": [
    {
      "cell_type": "code",
      "metadata": {
        "colab": {
          "base_uri": "https://localhost:8080/"
        },
        "id": "floc-g4zd1q4",
        "outputId": "ebe6dc80-e2c2-4c15-aea5-982b13d0a772"
      },
      "source": [
        "n = int(input())\n",
        "arr = list(map(int, input().split()))\n",
        "print(sum(arr))"
      ],
      "execution_count": 2,
      "outputs": [
        {
          "output_type": "stream",
          "text": [
            "6\n",
            "1 2 4 5 3 1\n",
            "16\n"
          ],
          "name": "stdout"
        }
      ]
    }
  ]
}