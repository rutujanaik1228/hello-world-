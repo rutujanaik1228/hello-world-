{
  "nbformat": 4,
  "nbformat_minor": 0,
  "metadata": {
    "colab": {
      "name": "pract5.ipynb",
      "provenance": []
    },
    "kernelspec": {
      "name": "python3",
      "display_name": "Python 3"
    },
    "language_info": {
      "name": "python"
    }
  },
  "cells": [
    {
      "cell_type": "code",
      "metadata": {
        "id": "T-8tIGkor8y_"
      },
      "source": [
        "\n",
        "def result(a,b,c,d,e):\n",
        "  r=((a+b+c+d+e)/500)*100\n",
        "  print(\"The student scored\",r,\"%\")\n",
        "m=float(input(\"enter marks scored in subject 1(out of 100):\"))\n",
        "n=float(input(\"enter marks scored in subject 2(out of 100):\"))\n",
        "o=float(input(\"enter marks scored in subject 3(out of 100):\"))\n",
        "p=float(input(\"enter marks scored in subject 4(out of 100):\"))\n",
        "q=float(input(\"enter marks scored in subject 5(out of 100):\"))\n",
        "result(m,n,o,p,q)"
      ],
      "execution_count": null,
      "outputs": []
    }
  ]
}