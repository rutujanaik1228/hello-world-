{
  "nbformat": 4,
  "nbformat_minor": 0,
  "metadata": {
    "colab": {
      "name": "reversing a number.ipynb",
      "provenance": []
    },
    "kernelspec": {
      "name": "python3",
      "display_name": "Python 3"
    },
    "language_info": {
      "name": "python"
    }
  },
  "cells": [
    {
      "cell_type": "code",
      "metadata": {
        "colab": {
          "base_uri": "https://localhost:8080/"
        },
        "id": "Mw0pjO3IYMKf",
        "outputId": "9561e852-75a2-4a5f-9301-2a4bda6a0e5f"
      },
      "source": [
        "n = int(input(\"enter a number:\"))\n",
        "rev = 0\n",
        " \n",
        "while(n > 0):\n",
        "    a = n % 10\n",
        "    rev = rev * 10 + a\n",
        "    n = n // 10\n",
        " \n",
        "print(\"the reversed number :\",rev)"
      ],
      "execution_count": 3,
      "outputs": [
        {
          "output_type": "stream",
          "text": [
            "enter a number:9568\n",
            "the reversed number : 8659\n"
          ],
          "name": "stdout"
        }
      ]
    }
  ]
}