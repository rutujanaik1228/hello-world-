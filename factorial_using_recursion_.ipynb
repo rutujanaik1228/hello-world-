{
  "nbformat": 4,
  "nbformat_minor": 0,
  "metadata": {
    "colab": {
      "name": "factorial using recursion .ipynb",
      "provenance": []
    },
    "kernelspec": {
      "name": "python3",
      "display_name": "Python 3"
    },
    "language_info": {
      "name": "python"
    }
  },
  "cells": [
    {
      "cell_type": "code",
      "metadata": {
        "colab": {
          "base_uri": "https://localhost:8080/"
        },
        "id": "uf3d_ZtO2UvN",
        "outputId": "d7d63c2a-7ff6-49a2-a754-93dc72df74a9"
      },
      "source": [
        "def factorial(x):\n",
        "     if x == 1:\n",
        "        return 1\n",
        "     else:\n",
        "        return (x * factorial(x-1))\n",
        "\n",
        "\n",
        "num = int(input(\"enter a no:\"))\n",
        "print(\"The factorial of\", num, \"is\", factorial(num))"
      ],
      "execution_count": 5,
      "outputs": [
        {
          "output_type": "stream",
          "text": [
            "enter a no:169\n",
            "The factorial of 169 is 42690680090047052749392518888995665380688186360567361038491634111179775549421800928543239701427161526538182301399050122215682485679075017796052357489455946484708413412107621199803603527401512378815048789750405684196703601544535852628274771797464002689372589486243840000000000000000000000000000000000000000\n"
          ],
          "name": "stdout"
        }
      ]
    }
  ]
}