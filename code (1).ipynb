{
  "nbformat": 4,
  "nbformat_minor": 0,
  "metadata": {
    "colab": {
      "name": "code.ipynb",
      "provenance": []
    },
    "kernelspec": {
      "name": "python3",
      "display_name": "Python 3"
    },
    "language_info": {
      "name": "python"
    }
  },
  "cells": [
    {
      "cell_type": "code",
      "metadata": {
        "colab": {
          "base_uri": "https://localhost:8080/"
        },
        "id": "DwoA7QvlwEUD",
        "outputId": "060ac55c-b41a-43f3-cb06-905080808895"
      },
      "source": [
        "thisdist={}\n",
        "list=[\"Name\",\"Gender\",\"DOB\",\"Age\",\"Qulifications\",\"Experience\",\"Phone no.\",\"Address\"]\n",
        "for i in list:\n",
        "\tprint([i])\t\n",
        "\tthisdist[i]=input(\"Enter info: \")\n",
        "print(thisdist)"
      ],
      "execution_count": 9,
      "outputs": [
        {
          "output_type": "stream",
          "text": [
            "['Name']\n",
            "Enter info: RAJAT\n",
            "['Gender']\n",
            "Enter info: MALE\n",
            "['DOB']\n",
            "Enter info: 15/5/1989\n",
            "['Age']\n",
            "Enter info: 40\n",
            "['Qulifications']\n",
            "Enter info: MBBS\n",
            "['Experience']\n",
            "Enter info: 9984322512\n",
            "['Phone no.']\n",
            "Enter info: 51445435\n",
            "['Address']\n",
            "Enter info: APKDSJH\n",
            "{'Name': 'RAJAT', 'Gender': 'MALE', 'DOB': '15/5/1989', 'Age': '40', 'Qulifications': 'MBBS', 'Experience': '9984322512', 'Phone no.': '51445435', 'Address': 'APKDSJH'}\n"
          ],
          "name": "stdout"
        }
      ]
    }
  ]
}