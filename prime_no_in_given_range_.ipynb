{
  "nbformat": 4,
  "nbformat_minor": 0,
  "metadata": {
    "colab": {
      "name": "prime no in given range .ipynb",
      "provenance": []
    },
    "kernelspec": {
      "name": "python3",
      "display_name": "Python 3"
    },
    "language_info": {
      "name": "python"
    }
  },
  "cells": [
    {
      "cell_type": "code",
      "metadata": {
        "colab": {
          "base_uri": "https://localhost:8080/"
        },
        "id": "uf3d_ZtO2UvN",
        "outputId": "d431baeb-58c1-4344-a5e5-96eb61725f62"
      },
      "source": [
        "start = int(input(\"enter start value:\"))\n",
        "end = int(input(\"enter start value:\"))\n",
        "  \n",
        "for i in range(start, end+1):\n",
        "  if i>1:\n",
        "    for j in range(2,i):\n",
        "        if(i % j==0):\n",
        "            break\n",
        "    else:\n",
        "        print(i)"
      ],
      "execution_count": 1,
      "outputs": [
        {
          "output_type": "stream",
          "text": [
            "enter start value:1\n",
            "enter start value:7\n",
            "2\n",
            "3\n",
            "5\n",
            "7\n"
          ],
          "name": "stdout"
        }
      ]
    }
  ]
}