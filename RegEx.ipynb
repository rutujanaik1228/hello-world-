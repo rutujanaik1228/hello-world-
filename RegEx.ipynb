{
  "nbformat": 4,
  "nbformat_minor": 0,
  "metadata": {
    "colab": {
      "name": "RegEx.ipynb",
      "provenance": []
    },
    "kernelspec": {
      "name": "python3",
      "display_name": "Python 3"
    },
    "language_info": {
      "name": "python"
    }
  },
  "cells": [
    {
      "cell_type": "code",
      "metadata": {
        "colab": {
          "base_uri": "https://localhost:8080/"
        },
        "id": "7BTOhFGkjAb2",
        "outputId": "25e1f53a-5da3-4f08-ea10-7d760ea0fce3"
      },
      "source": [
        "import re\n",
        "txt = \"The rain in Spain\"\n",
        "x = re.search(\"Spain\", txt)\n",
        "\n",
        "if x:\n",
        "  print(\"YES! We have a match!\")\n",
        "else:\n",
        "  print(\"No match\")"
      ],
      "execution_count": 11,
      "outputs": [
        {
          "output_type": "stream",
          "text": [
            "YES! We have a match!\n"
          ],
          "name": "stdout"
        }
      ]
    },
    {
      "cell_type": "code",
      "metadata": {
        "colab": {
          "base_uri": "https://localhost:8080/"
        },
        "id": "zXlsCv0rj2oU",
        "outputId": "b2dc935c-c973-4ee7-9a6f-9bd6d3ca2824"
      },
      "source": [
        "txt = \"The rain in Spain\"\n",
        "x = re.findall(\"in\", txt)\n",
        "print(x)"
      ],
      "execution_count": 12,
      "outputs": [
        {
          "output_type": "stream",
          "text": [
            "['in', 'in', 'in']\n"
          ],
          "name": "stdout"
        }
      ]
    },
    {
      "cell_type": "code",
      "metadata": {
        "colab": {
          "base_uri": "https://localhost:8080/"
        },
        "id": "M0d5Pe3xkSFx",
        "outputId": "d396dd29-e49e-400a-95ac-6c58cd547e02"
      },
      "source": [
        "txt = \"summer here is very hot \"\n",
        "x = re.search(\"\\s\", txt)\n",
        "print(\"The first white-space character is located in position:\", x.start()) "
      ],
      "execution_count": 19,
      "outputs": [
        {
          "output_type": "stream",
          "text": [
            "The first white-space character is located in position: 6\n"
          ],
          "name": "stdout"
        }
      ]
    },
    {
      "cell_type": "code",
      "metadata": {
        "colab": {
          "base_uri": "https://localhost:8080/"
        },
        "id": "gZP5s7xekzPK",
        "outputId": "151f9912-242b-4d71-a548-7a46ab2d8762"
      },
      "source": [
        "txt = \"The rain in Spain\"\n",
        "x = re.split(\"\\s\", txt, 1)\n",
        "print(x)"
      ],
      "execution_count": 24,
      "outputs": [
        {
          "output_type": "stream",
          "text": [
            "['The', 'rain in Spain']\n"
          ],
          "name": "stdout"
        }
      ]
    }
  ]
}