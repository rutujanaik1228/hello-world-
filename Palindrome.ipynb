{
  "nbformat": 4,
  "nbformat_minor": 0,
  "metadata": {
    "colab": {
      "name": "Palindrome.ipynb",
      "provenance": []
    },
    "kernelspec": {
      "name": "python3",
      "display_name": "Python 3"
    },
    "language_info": {
      "name": "python"
    }
  },
  "cells": [
    {
      "cell_type": "code",
      "metadata": {
        "colab": {
          "base_uri": "https://localhost:8080/"
        },
        "id": "CT1TgGaKC2EN",
        "outputId": "448d8aa6-b082-45ba-ec90-610afaaaa33f"
      },
      "source": [
        "def isPalindrome(s):\n",
        "    return s == s[::-1]\n",
        "s = str(input(\"enter a word:\"))\n",
        "ans = isPalindrome(s)\n",
        " \n",
        "if ans:\n",
        "    print(\"Palindrome\")\n",
        "else:\n",
        "    print(\"Not a Palindrome\")"
      ],
      "execution_count": 2,
      "outputs": [
        {
          "output_type": "stream",
          "text": [
            "enter a word:rutuja\n",
            "Not a Palindrome\n"
          ],
          "name": "stdout"
        }
      ]
    }
  ]
}