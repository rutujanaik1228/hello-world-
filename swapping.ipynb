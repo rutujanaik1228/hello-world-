{
  "nbformat": 4,
  "nbformat_minor": 0,
  "metadata": {
    "colab": {
      "name": "swapping.ipynb",
      "provenance": []
    },
    "kernelspec": {
      "name": "python3",
      "display_name": "Python 3"
    },
    "language_info": {
      "name": "python"
    }
  },
  "cells": [
    {
      "cell_type": "code",
      "metadata": {
        "colab": {
          "base_uri": "https://localhost:8080/"
        },
        "id": "FMpxRabpr4gG",
        "outputId": "f21cc214-79bd-451f-8a25-68f294f875de"
      },
      "source": [
        "\n",
        "x = input('Enter value of x: ')\n",
        "y = input('Enter value of y: ')\n",
        "\n",
        "temp = x\n",
        "x = y\n",
        "y = temp\n",
        "\n",
        "print('The value of x after swapping: {}'.format(x))\n",
        "print('The value of y after swapping: {}'.format(y))"
      ],
      "execution_count": 1,
      "outputs": [
        {
          "output_type": "stream",
          "text": [
            "Enter value of x: 9\n",
            "Enter value of y: 5\n",
            "The value of x after swapping: 5\n",
            "The value of y after swapping: 9\n"
          ],
          "name": "stdout"
        }
      ]
    }
  ]
}