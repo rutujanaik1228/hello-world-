{
  "nbformat": 4,
  "nbformat_minor": 0,
  "metadata": {
    "colab": {
      "name": "bitwise AND.ipynb",
      "provenance": []
    },
    "kernelspec": {
      "name": "python3",
      "display_name": "Python 3"
    },
    "language_info": {
      "name": "python"
    }
  },
  "cells": [
    {
      "cell_type": "code",
      "metadata": {
        "id": "iUYdn1BrrDW7"
      },
      "source": [
        "def FindMax(N,K):\n",
        "    m= 0\n",
        "    for i in range(K- 2, N):\n",
        "        for j in range(i + 1, N + 1):\n",
        "            ab = i & j\n",
        "            if ab == K- 1:\n",
        "                return ab\n",
        "            if m< ab < K:\n",
        "                m = ab\n",
        "    return m\n",
        "\n",
        "\n",
        "for i in range(int(input().strip())):\n",
        "    n, k = map(int, input().split())\n",
        "    print(FindMax(n, k))"
      ],
      "execution_count": null,
      "outputs": []
    }
  ]
}