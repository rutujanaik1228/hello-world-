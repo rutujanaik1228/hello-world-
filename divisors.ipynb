{
  "nbformat": 4,
  "nbformat_minor": 0,
  "metadata": {
    "colab": {
      "name": "divisors.ipynb",
      "provenance": []
    },
    "kernelspec": {
      "name": "python3",
      "display_name": "Python 3"
    },
    "language_info": {
      "name": "python"
    }
  },
  "cells": [
    {
      "cell_type": "code",
      "metadata": {
        "colab": {
          "base_uri": "https://localhost:8080/"
        },
        "id": "Q9JbFbqHFnO_",
        "outputId": "f41def61-3ca6-4b60-e440-0364db335f92"
      },
      "source": [
        "def divisors(n):\n",
        "    divisor_list = [1]\n",
        "    for i in range(2,n // 2 + 1):\n",
        "        if n%i== 0:\n",
        "          divisor_list.append(i)\n",
        "    print(\"the list of divisors of\",n,\":\")\n",
        "    return divisor_list\n",
        "a=int(input(\"enter a number:\"))\n",
        "divisors(a)"
      ],
      "execution_count": 8,
      "outputs": [
        {
          "output_type": "stream",
          "text": [
            "enter a number:24\n",
            "the list of divisors of 24 :\n"
          ],
          "name": "stdout"
        },
        {
          "output_type": "execute_result",
          "data": {
            "text/plain": [
              "[1, 2, 3, 4, 6, 8, 12]"
            ]
          },
          "metadata": {
            "tags": []
          },
          "execution_count": 8
        }
      ]
    }
  ]
}