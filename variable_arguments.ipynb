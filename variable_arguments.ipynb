{
  "nbformat": 4,
  "nbformat_minor": 0,
  "metadata": {
    "colab": {
      "name": "variable arguments.ipynb",
      "provenance": []
    },
    "kernelspec": {
      "name": "python3",
      "display_name": "Python 3"
    },
    "language_info": {
      "name": "python"
    }
  },
  "cells": [
    {
      "cell_type": "code",
      "metadata": {
        "id": "T-8tIGkor8y_",
        "colab": {
          "base_uri": "https://localhost:8080/"
        },
        "outputId": "42d41b35-b68b-4df3-8a2e-c3dfa9f70437"
      },
      "source": [
        "\"\"\"Write a Python function to calculate result of students by accepting marks of all subjects by using variables arguments.\n",
        "NAME-RUTUJA NAIK\n",
        "SECTION-C\n",
        "ROLL NO.-70\"\"\"\n",
        "\n",
        "def result( Roll_No,Name, *marks ):\n",
        "   print(\"______________________________RESULT____________________________________\")\n",
        "   print (\"Name : \", Name)\n",
        "   print (\"Roll No: \", Roll_No)\n",
        "   m=[]\n",
        "   for mark in marks:\n",
        "     m.append(mark)\n",
        "   total=0\n",
        "   for i in m:\n",
        "     total+=i\n",
        "   percent=(total/(len(m)*100))*100\n",
        "   print(\"The score of student is\",percent,\"%\")\n",
        "\n",
        "Roll_no=int(input(\"Enter Your Roll Number:\"))\n",
        "Name=input(\"Enter Your Name:\")\n",
        "sub1=int(input('Enter the marks of subject1:'))\n",
        "sub2=int(input('Enter the marks of subject2:'))\n",
        "sub3=int(input('Enter the marks of subject3:'))\n",
        "sub4=int(input('Enter the marks of subject4:'))\n",
        "sub5=int(input('Enter the marks of subject5:'))\n",
        "result(Roll_no, Name,sub1,sub2,sub3,sub4,sub5)\n",
        "print(\"_________________________________________________________________________\")\n",
        "print(\"RUTUJA NAIK\")\n",
        "print(\"C-70\")"
      ],
      "execution_count": null,
      "outputs": [
        {
          "output_type": "stream",
          "text": [
            "Enter Your Roll Number:70\n",
            "Enter Your Name:RUTUJA NAIK\n",
            "Enter the marks of subject1:95\n",
            "Enter the marks of subject2:84\n",
            "Enter the marks of subject3:95\n",
            "Enter the marks of subject4:64\n",
            "Enter the marks of subject5:85\n",
            "______________________________RESULT____________________________________\n",
            "Name :  RUTUJA NAIK\n",
            "Roll No:  70\n",
            "The score of student is 84.6 %\n",
            "_________________________________________________________________________\n",
            "RUTUJA NAIK\n",
            "C-70\n"
          ],
          "name": "stdout"
        }
      ]
    }
  ]
}