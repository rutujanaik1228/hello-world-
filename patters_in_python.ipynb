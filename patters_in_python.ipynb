{
  "nbformat": 4,
  "nbformat_minor": 0,
  "metadata": {
    "colab": {
      "name": "patters in python.ipynb",
      "provenance": []
    },
    "kernelspec": {
      "name": "python3",
      "display_name": "Python 3"
    },
    "language_info": {
      "name": "python"
    }
  },
  "cells": [
    {
      "cell_type": "code",
      "metadata": {
        "colab": {
          "base_uri": "https://localhost:8080/"
        },
        "id": "2_8aT7vXIaH3",
        "outputId": "d62c8b4b-01c0-48e6-c04c-afff7d213891"
      },
      "source": [
        "rows = 5\n",
        "a = 0\n",
        "for i in range(rows, 0, -1):\n",
        "    a += 1\n",
        "    for j in range(1, i + 1):\n",
        "        print(a, end=\" \")\n",
        "    print(\"\\r\")"
      ],
      "execution_count": 12,
      "outputs": [
        {
          "output_type": "stream",
          "text": [
            "1 1 1 1 1 \r\n",
            "2 2 2 2 \r\n",
            "3 3 3 \r\n",
            "4 4 \r\n",
            "5 \r\n"
          ],
          "name": "stdout"
        }
      ]
    }
  ]
}