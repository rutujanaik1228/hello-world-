{
  "nbformat": 4,
  "nbformat_minor": 0,
  "metadata": {
    "colab": {
      "name": "Untitled1.ipynb",
      "provenance": []
    },
    "kernelspec": {
      "name": "python3",
      "display_name": "Python 3"
    },
    "language_info": {
      "name": "python"
    }
  },
  "cells": [
    {
      "cell_type": "code",
      "metadata": {
        "colab": {
          "base_uri": "https://localhost:8080/"
        },
        "id": "JVJHGzG3m_Kj",
        "outputId": "0bff4dd8-87e8-4cf0-97ba-2db5dcc15639"
      },
      "source": [
        "\"\"\"Write a python program that demonstrates the use of dictionary to display doctor profile information.\n",
        "NAME-RUTUJA NAIK\n",
        "SECTION-C\n",
        "ROLL NO.-70\"\"\"\n",
        "d={}\n",
        "t=(\"NAME\",\"AGE\",\"QUALIFICATION\",\"EXPERIENCE\",\"CONTACT NO.\")\n",
        "for i in t:\n",
        "  print(i)\n",
        "  d[i]=input()\n",
        "print(d)\n",
        "print(\"\"\"NAME-RUTUJA NAIK\n",
        "SECTION-C\n",
        "ROLL NO.-706\"\"\")"
      ],
      "execution_count": 10,
      "outputs": [
        {
          "output_type": "stream",
          "text": [
            "NAME\n",
            "rutuja\n",
            "AGE\n",
            "55\n",
            "QUALIFICATION\n",
            "53151\n",
            "EXPERIENCE\n",
            "3345345\n",
            "CONTACT NO.\n",
            "5135135131\n",
            "{'NAME': 'rutuja', 'AGE': '55', 'QUALIFICATION': '53151', 'EXPERIENCE': '3345345', 'CONTACT NO.': '5135135131'}\n",
            "NAME-RUTUJA NAIK\n",
            "SECTION-C\n",
            "ROLL NO.-70\n"
          ],
          "name": "stdout"
        }
      ]
    }
  ]
}