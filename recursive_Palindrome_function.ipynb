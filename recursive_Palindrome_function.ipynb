{
  "nbformat": 4,
  "nbformat_minor": 0,
  "metadata": {
    "colab": {
      "name": "recursive Palindrome function.ipynb",
      "provenance": []
    },
    "kernelspec": {
      "name": "python3",
      "display_name": "Python 3"
    },
    "language_info": {
      "name": "python"
    }
  },
  "cells": [
    {
      "cell_type": "code",
      "metadata": {
        "id": "ukPLgMepE6Gc"
      },
      "source": [
        "def isPalindrome(s):\n",
        "    s = s.lower()\n",
        "    l = len(s)\n",
        "    if l < 2:\n",
        "        return True\n",
        "    elif s[0] == s[l - 1]:\n",
        "        \n",
        "        return isPalindrome(s[1: l - 1])\n",
        "    else:\n",
        "        return False\n",
        "s=str(input(\"enter a word: \"))\n",
        "a= isPalindrome(s)\n",
        "if a:\n",
        "    print(\"Palindrome\")\n",
        " \n",
        "else:\n",
        "    print(\"Not a Palindrome\")"
      ],
      "execution_count": null,
      "outputs": []
    }
  ]
}