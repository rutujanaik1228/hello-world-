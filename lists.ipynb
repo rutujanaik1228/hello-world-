{
  "nbformat": 4,
  "nbformat_minor": 0,
  "metadata": {
    "colab": {
      "name": "lists.ipynb",
      "provenance": []
    },
    "kernelspec": {
      "name": "python3",
      "display_name": "Python 3"
    },
    "language_info": {
      "name": "python"
    }
  },
  "cells": [
    {
      "cell_type": "code",
      "metadata": {
        "colab": {
          "base_uri": "https://localhost:8080/"
        },
        "id": "UxCcbEgcqbfA",
        "outputId": "eadb2a2f-e071-4817-d1e0-8de7ef1c44e0"
      },
      "source": [
        "l=[1,5,9,7,3]\n",
        "l.sort()\n",
        "print(l)"
      ],
      "execution_count": 28,
      "outputs": [
        {
          "output_type": "stream",
          "text": [
            "[1, 3, 5, 7, 9]\n"
          ],
          "name": "stdout"
        }
      ]
    },
    {
      "cell_type": "code",
      "metadata": {
        "colab": {
          "base_uri": "https://localhost:8080/"
        },
        "id": "opDvPzSLskQ1",
        "outputId": "b42b83b6-dc15-48b5-90bc-81333f56cf9b"
      },
      "source": [
        "l.pop()\n",
        "l"
      ],
      "execution_count": 29,
      "outputs": [
        {
          "output_type": "execute_result",
          "data": {
            "text/plain": [
              "[1, 3, 5, 7]"
            ]
          },
          "metadata": {
            "tags": []
          },
          "execution_count": 29
        }
      ]
    },
    {
      "cell_type": "code",
      "metadata": {
        "colab": {
          "base_uri": "https://localhost:8080/"
        },
        "id": "sXqXNjqqtEQa",
        "outputId": "dd660bc7-9d9b-4ad5-c1fd-06e30625aa16"
      },
      "source": [
        "l.pop(1)\n",
        "l"
      ],
      "execution_count": 30,
      "outputs": [
        {
          "output_type": "execute_result",
          "data": {
            "text/plain": [
              "[1, 5, 7]"
            ]
          },
          "metadata": {
            "tags": []
          },
          "execution_count": 30
        }
      ]
    },
    {
      "cell_type": "code",
      "metadata": {
        "colab": {
          "base_uri": "https://localhost:8080/"
        },
        "id": "R8ft75WPtSTm",
        "outputId": "601f6f1d-1205-48fb-cb90-ef4f7294475f"
      },
      "source": [
        "l.append(\"lily\")\n",
        "l"
      ],
      "execution_count": 31,
      "outputs": [
        {
          "output_type": "execute_result",
          "data": {
            "text/plain": [
              "[1, 5, 7, 'lily']"
            ]
          },
          "metadata": {
            "tags": []
          },
          "execution_count": 31
        }
      ]
    },
    {
      "cell_type": "code",
      "metadata": {
        "colab": {
          "base_uri": "https://localhost:8080/"
        },
        "id": "xd8aO4AEt0iJ",
        "outputId": "36b53459-a52e-4e2d-b0ae-41774f6a6d86"
      },
      "source": [
        "l1=[\"rose\",\"tulip\"]\n",
        "l.append(l1)\n",
        "l"
      ],
      "execution_count": 26,
      "outputs": [
        {
          "output_type": "execute_result",
          "data": {
            "text/plain": [
              "[1, 5, 7, 'lily', 'rose', 'tulip', 'rose', 'tulip', ['rose', 'tulip']]"
            ]
          },
          "metadata": {
            "tags": []
          },
          "execution_count": 26
        }
      ]
    },
    {
      "cell_type": "code",
      "metadata": {
        "colab": {
          "base_uri": "https://localhost:8080/"
        },
        "id": "hGeHQY3otYBq",
        "outputId": "19c0771c-3961-43b5-e7e4-479eb4081de7"
      },
      "source": [
        "l1=[\"rose\",\"tulip\"]\n",
        "l.extend(l1)\n",
        "l"
      ],
      "execution_count": 32,
      "outputs": [
        {
          "output_type": "execute_result",
          "data": {
            "text/plain": [
              "[1, 5, 7, 'lily', 'rose', 'tulip']"
            ]
          },
          "metadata": {
            "tags": []
          },
          "execution_count": 32
        }
      ]
    }
  ]
}