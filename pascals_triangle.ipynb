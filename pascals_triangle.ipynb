{
  "nbformat": 4,
  "nbformat_minor": 0,
  "metadata": {
    "colab": {
      "name": "pascals triangle.ipynb",
      "provenance": []
    },
    "kernelspec": {
      "name": "python3",
      "display_name": "Python 3"
    },
    "language_info": {
      "name": "python"
    }
  },
  "cells": [
    {
      "cell_type": "code",
      "metadata": {
        "id": "oBKGkaN7K2dh"
      },
      "source": [
        "from math import factorial\n",
        "n = int(input(\"enter a no.:\"))\n",
        "for i in range(n):\n",
        "    for j in range(n-i+1):\n",
        "        print(end=\" \")\n",
        "    for j in range(i+1):\n",
        "        print(factorial(i)//(factorial(j)*factorial(i-j)), end=\" \")\n",
        "    print()"
      ],
      "execution_count": null,
      "outputs": []
    }
  ]
}