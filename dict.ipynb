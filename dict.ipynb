{
  "nbformat": 4,
  "nbformat_minor": 0,
  "metadata": {
    "colab": {
      "name": "dict.ipynb",
      "provenance": []
    },
    "kernelspec": {
      "name": "python3",
      "display_name": "Python 3"
    },
    "language_info": {
      "name": "python"
    }
  },
  "cells": [
    {
      "cell_type": "code",
      "metadata": {
        "colab": {
          "base_uri": "https://localhost:8080/"
        },
        "id": "EPUVg36SqyHP",
        "outputId": "1852439b-c401-499e-e488-7e785f479020"
      },
      "source": [
        "'''Write a python program that demonstrates the use of dictionary to\n",
        "display doctor profile information.     \n",
        "NAME - Khushi Mishra\n",
        "SECTION C\n",
        "ROLL No. - 06\n",
        "'''\n",
        "doc = {}    \n",
        "print(\"Type: \",type(doc))     \n",
        "print(\"Enter the details of the Doctor :\")\n",
        "doc[\"Name\"] = input(\"Name: \")  \n",
        "doc[\"Age\"] = int(input(\"Age: \"))\n",
        "doc[\"Salary\"] = int(input(\"Salary: \"))\n",
        "doc[\"Qualification\"] = input(\"Qualification: \")\n",
        "print(\"\")\n",
        "print(\"Doctor's profile -\")\n",
        "for x in doc:    \n",
        "    print(x,\" : \",doc[x])\n"
      ],
      "execution_count": 2,
      "outputs": [
        {
          "output_type": "stream",
          "text": [
            "Type:  <class 'dict'>\n",
            "Enter the details of the Doctor :\n",
            "Name: rutuja\n",
            "Age: 202\n",
            "Salary: 405465046\n",
            "Qualification: hbjcdsbkh\n",
            "\n",
            "Doctor's profile -\n",
            "Name  :  rutuja\n",
            "Age  :  202\n",
            "Salary  :  405465046\n",
            "Qualification  :  hbjcdsbkh\n"
          ],
          "name": "stdout"
        }
      ]
    },
    {
      "cell_type": "code",
      "metadata": {
        "id": "BugJsEgVtIQj"
      },
      "source": [
        ""
      ],
      "execution_count": null,
      "outputs": []
    }
  ]
}