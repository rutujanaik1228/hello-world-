{
  "nbformat": 4,
  "nbformat_minor": 0,
  "metadata": {
    "colab": {
      "name": "patterns.ipynb",
      "provenance": []
    },
    "kernelspec": {
      "name": "python3",
      "display_name": "Python 3"
    },
    "language_info": {
      "name": "python"
    }
  },
  "cells": [
    {
      "cell_type": "code",
      "metadata": {
        "id": "cXPd9SrtGyRx"
      },
      "source": [
        "def pattern(n):\n",
        "    k = 2 * n - 2\n",
        "    for i in range(0, n-1):\n",
        "        for j in range(0, k):\n",
        "            print(end=\" \")\n",
        "        k = k - 2\n",
        "        for j in range(0, i + 1):\n",
        "            print(\"* \", end=\"\")\n",
        "        print(\"&#92r\")\n",
        "    k = -1\n",
        "    for i in range(n-1,-1,-1):\n",
        "        for j in range(k,-1,-1):\n",
        "            print(end=\" \")\n",
        "        k = k + 2\n",
        "        for j in range(0, i + 1):\n",
        "            print(\"* \", end=\"\")\n",
        "        print(\"&#92r\")\n",
        " \n",
        "n=int(input(\"enter a number:\"))\n",
        "pattern(n)"
      ],
      "execution_count": null,
      "outputs": []
    }
  ]
}