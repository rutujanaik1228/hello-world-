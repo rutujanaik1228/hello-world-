{
  "nbformat": 4,
  "nbformat_minor": 0,
  "metadata": {
    "colab": {
      "name": "sum of elements of list.ipynb",
      "provenance": []
    },
    "kernelspec": {
      "name": "python3",
      "display_name": "Python 3"
    },
    "language_info": {
      "name": "python"
    }
  },
  "cells": [
    {
      "cell_type": "code",
      "metadata": {
        "colab": {
          "base_uri": "https://localhost:8080/"
        },
        "id": "wnTz2XoOQErz",
        "outputId": "6e91609a-2466-4ab9-a552-cab8048118b2"
      },
      "source": [
        "def list_sum(num_List):\n",
        "    if len(num_List) == 1:\n",
        "        return num_List[0]\n",
        "    else:\n",
        "        return num_List[0] + list_sum(num_List[1:])\n",
        "n=int(input(\"enter no. of elements:\"))\n",
        "l=[]\n",
        "for i in range(0,n):\n",
        "  a=int(input(\"enter an element\"))\n",
        "  l.append(a)\n",
        "print(\"The list is:\",l)\n",
        "print(list_sum(l))"
      ],
      "execution_count": 7,
      "outputs": [
        {
          "output_type": "stream",
          "text": [
            "enter no. of elements:5\n",
            "enter an element1\n",
            "enter an element2\n",
            "enter an element3\n",
            "enter an element4\n",
            "enter an element5\n",
            "The list is: [1, 2, 3, 4, 5]\n",
            "15\n"
          ],
          "name": "stdout"
        }
      ]
    }
  ]
}