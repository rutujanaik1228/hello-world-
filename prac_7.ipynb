{
  "nbformat": 4,
  "nbformat_minor": 0,
  "metadata": {
    "colab": {
      "name": "prac 7.ipynb",
      "provenance": []
    },
    "kernelspec": {
      "name": "python3",
      "display_name": "Python 3"
    },
    "language_info": {
      "name": "python"
    }
  },
  "cells": [
    {
      "cell_type": "code",
      "metadata": {
        "id": "Ib7Gk8gwi5Ww",
        "colab": {
          "base_uri": "https://localhost:8080/"
        },
        "outputId": "c04c2258-8e9b-4f93-a11a-f0da3f7c3a13"
      },
      "source": [
        "\"\"\"Write a python program that demonstrates the use of dictionary to display doctor profile information.\n",
        "NAME-RUTUJA NAIK\n",
        "SECTION-C\n",
        "ROLL NO.-70\"\"\"\n",
        "dict1={}\n",
        "lists=[\"Name\",\"DOB\",\"Age\",\"Contact no.\",\"Address\"] \n",
        "for i in range(len(lists)):       \n",
        "  d=lists[i]\n",
        "  print(\"Enter\",d)     \n",
        "  data=input()     \n",
        "  dict1[data55]=v                  \n",
        "print(dict1)"
      ],
      "execution_count": 8,
      "outputs": [
        {
          "output_type": "stream",
          "text": [
            "Enter Name\n",
            "rutuja\n",
            "Enter DOB\n",
            "511\n",
            "Enter Age\n",
            "562\n",
            "Enter Contact no.\n",
            "554353513\n",
            "Enter Address\n",
            "5454544\n",
            "{'rutuja': 'nakjsnwndan', '511': 'nakjsnwndan', '562': 'nakjsnwndan', '554353513': 'nakjsnwndan', '5454544': 'nakjsnwndan'}\n"
          ],
          "name": "stdout"
        }
      ]
    }
  ]
}