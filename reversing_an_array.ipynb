{
  "nbformat": 4,
  "nbformat_minor": 0,
  "metadata": {
    "colab": {
      "name": "reversing an array.ipynb",
      "provenance": []
    },
    "kernelspec": {
      "name": "python3",
      "display_name": "Python 3"
    },
    "language_info": {
      "name": "python"
    }
  },
  "cells": [
    {
      "cell_type": "code",
      "metadata": {
        "colab": {
          "base_uri": "https://localhost:8080/"
        },
        "id": "pdt2lj_4fsAO",
        "outputId": "82960321-64be-4541-94c9-38dd69513fb0"
      },
      "source": [
        "arr = []\n",
        "n=int(input(\"enter no. of elements of array: \"))\n",
        "for i in range(0,n7):\n",
        "  a=int(input(\"enter array elemenet:\"))\n",
        "  arr.append(a) \n",
        "print(\"Original array: \")    \n",
        "for i in range(0, len(arr)):    \n",
        "    print(arr[i])\n",
        "print(\"Array in reverse order: \");       \n",
        "for i in range(len(arr)-1, -1, -1):     \n",
        "    print(arr[i]), "
      ],
      "execution_count": 4,
      "outputs": [
        {
          "output_type": "stream",
          "text": [
            "enter no. of elements of array: 5\n",
            "enter array elemenet:1\n",
            "enter array elemenet:2\n",
            "enter array elemenet:8\n",
            "enter array elemenet:5\n",
            "enter array elemenet:6\n",
            "Original array: \n",
            "1\n",
            "2\n",
            "8\n",
            "5\n",
            "6\n",
            "Array in reverse order: \n",
            "6\n",
            "5\n",
            "8\n",
            "2\n",
            "1\n"
          ],
          "name": "stdout"
        }
      ]
    }
  ]
}