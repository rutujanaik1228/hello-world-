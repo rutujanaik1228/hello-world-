{
  "nbformat": 4,
  "nbformat_minor": 0,
  "metadata": {
    "colab": {
      "name": "pasacals triangle.ipynb",
      "provenance": []
    },
    "kernelspec": {
      "name": "python3",
      "display_name": "Python 3"
    },
    "language_info": {
      "name": "python"
    }
  },
  "cells": [
    {
      "cell_type": "code",
      "metadata": {
        "colab": {
          "base_uri": "https://localhost:8080/"
        },
        "id": "pdt2lj_4fsAO",
        "outputId": "12d39e1e-8cd3-4b72-9a29-0a5186ec13c6"
      },
      "source": [
        "from math import factorial\n",
        "n = int(input(\"enter a no.:\"))\n",
        "for i in range(n):\n",
        "    for j in range(n-i+1):\n",
        "        print(end=\" \")\n",
        "    for j in range(i+1):\n",
        "        print(factorial(i)//(factorial(j)*factorial(i-j)), end=\" \")\n",
        "    print()"
      ],
      "execution_count": 8,
      "outputs": [
        {
          "output_type": "stream",
          "text": [
            "enter a no.:10\n",
            "           1 \n",
            "          1 1 \n",
            "         1 2 1 \n",
            "        1 3 3 1 \n",
            "       1 4 6 4 1 \n",
            "      1 5 10 10 5 1 \n",
            "     1 6 15 20 15 6 1 \n",
            "    1 7 21 35 35 21 7 1 \n",
            "   1 8 28 56 70 56 28 8 1 \n",
            "  1 9 36 84 126 126 84 36 9 1 \n"
          ],
          "name": "stdout"
        }
      ]
    },
    {
      "cell_type": "code",
      "metadata": {
        "id": "ypPZJTeghYwD"
      },
      "source": [
        ""
      ],
      "execution_count": null,
      "outputs": []
    }
  ]
}